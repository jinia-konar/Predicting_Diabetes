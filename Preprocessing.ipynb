{
  "nbformat": 4,
  "nbformat_minor": 0,
  "metadata": {
    "colab": {
      "name": "Preprocessing.ipynb",
      "provenance": [],
      "include_colab_link": true
    },
    "kernelspec": {
      "name": "python3",
      "display_name": "Python 3"
    }
  },
  "cells": [
    {
      "cell_type": "markdown",
      "metadata": {
        "id": "view-in-github",
        "colab_type": "text"
      },
      "source": [
        "<a href=\"https://colab.research.google.com/github/jinia-konar/Predicting_Diabetes/blob/master/Preprocessing.ipynb\" target=\"_parent\"><img src=\"https://colab.research.google.com/assets/colab-badge.svg\" alt=\"Open In Colab\"/></a>"
      ]
    },
    {
      "cell_type": "code",
      "metadata": {
        "id": "UN5tbYo0q-UW",
        "colab_type": "code",
        "colab": {}
      },
      "source": [
        "import pandas as pd\n",
        "import numpy as np\n",
        "from sklearn import preprocessing\n",
        "from sklearn.model_selection import train_test_split"
      ],
      "execution_count": 0,
      "outputs": []
    },
    {
      "cell_type": "code",
      "metadata": {
        "id": "gDaugN4drmOL",
        "colab_type": "code",
        "colab": {}
      },
      "source": [
        "df = pd.read_csv(\"/content/drive/My Drive/Colab Notebooks/Predicting Diabetes/diabetes.csv\")"
      ],
      "execution_count": 0,
      "outputs": []
    },
    {
      "cell_type": "code",
      "metadata": {
        "id": "eyDub2EyrsHR",
        "colab_type": "code",
        "outputId": "22b7cf3c-7149-400f-f51d-ab36d76ad90f",
        "colab": {
          "base_uri": "https://localhost:8080/",
          "height": 187
        }
      },
      "source": [
        "print(df.isnull().any())"
      ],
      "execution_count": 0,
      "outputs": [
        {
          "output_type": "stream",
          "text": [
            "Pregnancies                 False\n",
            "Glucose                     False\n",
            "BloodPressure               False\n",
            "SkinThickness               False\n",
            "Insulin                     False\n",
            "BMI                         False\n",
            "DiabetesPedigreeFunction    False\n",
            "Age                         False\n",
            "Outcome                     False\n",
            "dtype: bool\n"
          ],
          "name": "stdout"
        }
      ]
    },
    {
      "cell_type": "code",
      "metadata": {
        "id": "_STNPhoft0JC",
        "colab_type": "code",
        "outputId": "31130ecb-d7de-4a20-941a-2eb3013ad350",
        "colab": {
          "base_uri": "https://localhost:8080/",
          "height": 204
        }
      },
      "source": [
        "print(df.describe())"
      ],
      "execution_count": 0,
      "outputs": [
        {
          "output_type": "stream",
          "text": [
            "       Pregnancies     Glucose  ...         Age     Outcome\n",
            "count   768.000000  768.000000  ...  768.000000  768.000000\n",
            "mean      3.845052  120.894531  ...   33.240885    0.348958\n",
            "std       3.369578   31.972618  ...   11.760232    0.476951\n",
            "min       0.000000    0.000000  ...   21.000000    0.000000\n",
            "25%       1.000000   99.000000  ...   24.000000    0.000000\n",
            "50%       3.000000  117.000000  ...   29.000000    0.000000\n",
            "75%       6.000000  140.250000  ...   41.000000    1.000000\n",
            "max      17.000000  199.000000  ...   81.000000    1.000000\n",
            "\n",
            "[8 rows x 9 columns]\n"
          ],
          "name": "stdout"
        }
      ]
    },
    {
      "cell_type": "code",
      "metadata": {
        "id": "rEBgFu18t7qq",
        "colab_type": "code",
        "outputId": "d3da1892-fe48-41ea-c1e1-94e5d7d77dd2",
        "colab": {
          "base_uri": "https://localhost:8080/",
          "height": 187
        }
      },
      "source": [
        "print(\"Number of rows with 0 values for each variable\")\n",
        "for col in df.columns:\n",
        "  missing_rows = df.loc[df[col] == 0].shape[0]\n",
        "  print(col + \": \" + str(missing_rows) )"
      ],
      "execution_count": 0,
      "outputs": [
        {
          "output_type": "stream",
          "text": [
            "Number of rows with 0 values for each variable\n",
            "Pregnancies: 111\n",
            "Glucose: 5\n",
            "BloodPressure: 35\n",
            "SkinThickness: 227\n",
            "Insulin: 374\n",
            "BMI: 11\n",
            "DiabetesPedigreeFunction: 0\n",
            "Age: 0\n",
            "Outcome: 500\n"
          ],
          "name": "stdout"
        }
      ]
    },
    {
      "cell_type": "code",
      "metadata": {
        "id": "XzXUijuJuoyU",
        "colab_type": "code",
        "colab": {}
      },
      "source": [
        "df['Glucose'] = df['Glucose'].replace(0,np.nan)\n",
        "df['BloodPressure'] = df['BloodPressure'].replace(0,np.nan)\n",
        "df['SkinThickness'] = df['SkinThickness'].replace(0,np.nan)\n",
        "df['Insulin'] = df['Insulin'].replace(0,np.nan)\n",
        "df['BMI'] = df['BMI'].replace(0,np.nan)"
      ],
      "execution_count": 0,
      "outputs": []
    },
    {
      "cell_type": "code",
      "metadata": {
        "id": "-nCXPi3lwvJO",
        "colab_type": "code",
        "outputId": "efc0a5a9-d57c-456e-ebcb-e1b23252a5b2",
        "colab": {
          "base_uri": "https://localhost:8080/",
          "height": 187
        }
      },
      "source": [
        "print(\"Number of rows with 0 values for each variable\")\n",
        "for col in df.columns:\n",
        "  missing_rows = df.loc[df[col] == 0].shape[0]\n",
        "  print(col + \": \" + str(missing_rows) )"
      ],
      "execution_count": 0,
      "outputs": [
        {
          "output_type": "stream",
          "text": [
            "Number of rows with 0 values for each variable\n",
            "Pregnancies: 111\n",
            "Glucose: 0\n",
            "BloodPressure: 0\n",
            "SkinThickness: 0\n",
            "Insulin: 0\n",
            "BMI: 0\n",
            "DiabetesPedigreeFunction: 0\n",
            "Age: 0\n",
            "Outcome: 500\n"
          ],
          "name": "stdout"
        }
      ]
    },
    {
      "cell_type": "code",
      "metadata": {
        "id": "ikGQ83kWw228",
        "colab_type": "code",
        "colab": {}
      },
      "source": [
        "df['Glucose'] = df['Glucose'].fillna(df['Glucose'].mean())\n",
        "df['BloodPressure'] = df['BloodPressure'].fillna(df['BloodPressure'].mean())\n",
        "df['SkinThickness'] = df['SkinThickness'].fillna(df['SkinThickness'].mean())\n",
        "df['Insulin'] = df['Insulin'].fillna(df['Insulin'].mean())\n",
        "df['BMI'] = df['BMI'].fillna(df['BMI'].mean())"
      ],
      "execution_count": 0,
      "outputs": []
    },
    {
      "cell_type": "code",
      "metadata": {
        "id": "wEb8kHwqxpdq",
        "colab_type": "code",
        "outputId": "66f61f61-916a-4e2b-ad0f-ecc79d808f72",
        "colab": {
          "base_uri": "https://localhost:8080/",
          "height": 119
        }
      },
      "source": [
        "df_scaled = preprocessing.scale(df)\n",
        "df_scaled = pd.DataFrame(df_scaled, columns=df.columns)\n",
        "df_scaled['Outcome'] = df['Outcome']\n",
        "df = df_scaled\n",
        "print(df.describe().loc[['mean','std','max'],].round(2).abs())"
      ],
      "execution_count": 0,
      "outputs": [
        {
          "output_type": "stream",
          "text": [
            "      Pregnancies  Glucose  ...   Age  Outcome\n",
            "mean         0.00     0.00  ...  0.00     0.35\n",
            "std          1.00     1.00  ...  1.00     0.48\n",
            "max          3.91     2.54  ...  4.06     1.00\n",
            "\n",
            "[3 rows x 9 columns]\n"
          ],
          "name": "stdout"
        }
      ]
    },
    {
      "cell_type": "code",
      "metadata": {
        "id": "WuQIerSsypv2",
        "colab_type": "code",
        "colab": {}
      },
      "source": [
        "X = df.loc[:, df.columns!='Outcome']\n",
        "Y = df.loc[:, 'Outcome']"
      ],
      "execution_count": 0,
      "outputs": []
    },
    {
      "cell_type": "code",
      "metadata": {
        "id": "0VmSTAGjzbhg",
        "colab_type": "code",
        "colab": {}
      },
      "source": [
        "X_train, X_test, Y_train, Y_test = train_test_split(X,Y,test_size=0.2)"
      ],
      "execution_count": 0,
      "outputs": []
    },
    {
      "cell_type": "code",
      "metadata": {
        "id": "vFegJiffznlc",
        "colab_type": "code",
        "colab": {}
      },
      "source": [
        "train = pd.concat([X_train, Y_train], axis=1)\n",
        "test = pd.concat([X_test, Y_test], axis=1)"
      ],
      "execution_count": 0,
      "outputs": []
    },
    {
      "cell_type": "code",
      "metadata": {
        "id": "xttowbtT6f5B",
        "colab_type": "code",
        "outputId": "01edd64f-7eac-4a23-cf33-7df2350f8575",
        "colab": {
          "base_uri": "https://localhost:8080/",
          "height": 153
        }
      },
      "source": [
        "print(train.head())"
      ],
      "execution_count": 0,
      "outputs": [
        {
          "output_type": "stream",
          "text": [
            "     Pregnancies   Glucose  ...       Age  Outcome\n",
            "587     0.639947 -0.614370  ... -0.360847        0\n",
            "269    -0.547919  0.799353  ... -0.445935        1\n",
            "10      0.046014 -0.384229  ... -0.275760        0\n",
            "176     0.639947 -1.206162  ...  0.745293        0\n",
            "352    -0.250952 -1.995217  ...  1.085644        0\n",
            "\n",
            "[5 rows x 9 columns]\n"
          ],
          "name": "stdout"
        }
      ]
    },
    {
      "cell_type": "code",
      "metadata": {
        "id": "X4Hg5P5G0Vhn",
        "colab_type": "code",
        "colab": {}
      },
      "source": [
        "train.to_csv(r'/content/drive/My Drive/Colab Notebooks/Predicting Diabetes/train.csv')\n",
        "test.to_csv(r'/content/drive/My Drive/Colab Notebooks/Predicting Diabetes/test.csv')"
      ],
      "execution_count": 0,
      "outputs": []
    },
    {
      "cell_type": "code",
      "metadata": {
        "id": "IOBf0N2N1Ieu",
        "colab_type": "code",
        "colab": {}
      },
      "source": [
        ""
      ],
      "execution_count": 0,
      "outputs": []
    }
  ]
}